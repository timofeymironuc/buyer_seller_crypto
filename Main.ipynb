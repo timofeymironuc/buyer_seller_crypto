{
  "nbformat": 4,
  "nbformat_minor": 0,
  "metadata": {
    "colab": {
      "name": "Untitled0.ipynb",
      "provenance": [],
      "collapsed_sections": [],
      "authorship_tag": "ABX9TyONQHFCHk+Mtt/ewOlRjMFE",
      "include_colab_link": true
    },
    "kernelspec": {
      "name": "python3",
      "display_name": "Python 3"
    },
    "language_info": {
      "name": "python"
    }
  },
  "cells": [
    {
      "cell_type": "markdown",
      "metadata": {
        "id": "view-in-github",
        "colab_type": "text"
      },
      "source": [
        "<a href=\"https://colab.research.google.com/github/timofeymironuc/buyer_seller_crypto/blob/main/Main.ipynb\" target=\"_parent\"><img src=\"https://colab.research.google.com/assets/colab-badge.svg\" alt=\"Open In Colab\"/></a>"
      ]
    },
    {
      "cell_type": "code",
      "execution_count": 191,
      "metadata": {
        "colab": {
          "base_uri": "https://localhost:8080/"
        },
        "id": "Y9Ojmpzz-IT6",
        "outputId": "6b9c2ae2-e4df-47ee-a1e6-f97d344227b9"
      },
      "outputs": [
        {
          "output_type": "stream",
          "name": "stdout",
          "text": [
            "[2, 6, 7, 8]\n",
            "0.00221200\n"
          ]
        }
      ],
      "source": [
        "# Import libraries\n",
        "import json\n",
        "import requests\n",
        "import matplotlib as mt\n",
        "import numpy as np\n",
        "\n",
        "  \n",
        "# defining key/request url\n",
        "key = \"https://api.binance.com/api/v1/klines?symbol=LTCBTC&interval=15m&limit=10\"\n",
        "  \n",
        "# requesting data from url\n",
        "data = requests.get(key)  \n",
        "data=data.json()\n",
        "\n",
        "class Founder:\n",
        "  def __init__(self, data):\n",
        "    self.data = data\n",
        "    self.last_vector = False\n",
        "    self.vector = False\n",
        "\n",
        "  def check_vector(self, a, b):\n",
        "    self.last_vector = self.vector\n",
        "    if a >= b:\n",
        "      self.vector = False\n",
        "\n",
        "    else:\n",
        "      self.vector = True\n",
        "\n",
        "  def check_inversion_vector(self):\n",
        "    if self.vector == self.last_vector:\n",
        "      return False\n",
        "    else:\n",
        "      return True\n",
        "\n",
        "place =[]\n",
        "\n",
        "\n",
        "founder = Founder(data)\n",
        "founder.check_vector(data[0][4], data[1][4])\n",
        "for i in range(1, 9):\n",
        "    founder.check_vector(data[i][4], data[i+1][4])\n",
        "    if founder.check_inversion_vector():\n",
        "      place.append(i)\n",
        "\n",
        "print(place)\n",
        "print(data[7][4])"
      ]
    },
    {
      "cell_type": "code",
      "source": [
        ""
      ],
      "metadata": {
        "colab": {
          "base_uri": "https://localhost:8080/",
          "height": 282
        },
        "id": "tDlVbh1o_P3B",
        "outputId": "e1a3aa33-55fe-4afd-fc85-2e3cbac391a0"
      },
      "execution_count": 137,
      "outputs": [
        {
          "output_type": "execute_result",
          "data": {
            "text/plain": [
              "[<matplotlib.lines.Line2D at 0x7f300cf5bdd0>]"
            ]
          },
          "metadata": {},
          "execution_count": 137
        },
        {
          "output_type": "display_data",
          "data": {
            "text/plain": [
              "<Figure size 432x288 with 1 Axes>"
            ],
            "image/png": "[encoded data removed]"
          },
          "metadata": {
            "needs_background": "light"
          }
        }
      ]
    }
  ]
}